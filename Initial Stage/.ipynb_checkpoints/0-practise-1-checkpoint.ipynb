{
 "cells": [
  {
   "cell_type": "code",
   "execution_count": 2,
   "id": "dfc4ec70",
   "metadata": {
    "scrolled": true
   },
   "outputs": [],
   "source": [
    "# sigle Line Comment"
   ]
  },
  {
   "cell_type": "code",
   "execution_count": 5,
   "id": "ee52cd99",
   "metadata": {
    "scrolled": true
   },
   "outputs": [
    {
     "name": "stdout",
     "output_type": "stream",
     "text": [
      "First line\n"
     ]
    }
   ],
   "source": [
    "print('First line')"
   ]
  },
  {
   "cell_type": "code",
   "execution_count": 7,
   "id": "f819583d",
   "metadata": {
    "scrolled": true
   },
   "outputs": [
    {
     "name": "stdout",
     "output_type": "stream",
     "text": [
      "hello\n"
     ]
    }
   ],
   "source": [
    "x = 'hello'\n",
    "print(x)"
   ]
  },
  {
   "cell_type": "code",
   "execution_count": 8,
   "id": "0f718829",
   "metadata": {
    "scrolled": true
   },
   "outputs": [],
   "source": [
    "num = 19\n",
    "name = 'Ayush'"
   ]
  },
  {
   "cell_type": "code",
   "execution_count": 9,
   "id": "a30f7a37",
   "metadata": {
    "scrolled": true
   },
   "outputs": [
    {
     "name": "stdout",
     "output_type": "stream",
     "text": [
      "My name is Ayush and my age is 19\n"
     ]
    }
   ],
   "source": [
    "print(\"My name is {} and my age is {}\".format(name,num))"
   ]
  },
  {
   "cell_type": "code",
   "execution_count": 11,
   "id": "d71c5178",
   "metadata": {
    "scrolled": true
   },
   "outputs": [
    {
     "name": "stdout",
     "output_type": "stream",
     "text": [
      "My name is Ayush and my age is 19 and how about Ayush\n"
     ]
    }
   ],
   "source": [
    "print(\"My name is {fir} and my age is {sec} and how about {fir}\".format(fir=name,sec=num))"
   ]
  },
  {
   "cell_type": "code",
   "execution_count": 16,
   "id": "6b1b94eb",
   "metadata": {
    "scrolled": true
   },
   "outputs": [
    {
     "name": "stdout",
     "output_type": "stream",
     "text": [
      "[1, 2, 3, 4]\n"
     ]
    }
   ],
   "source": [
    "list1 = [1,2,3,4]\n",
    "print(list1)"
   ]
  },
  {
   "cell_type": "code",
   "execution_count": 17,
   "id": "0ccc91c4",
   "metadata": {
    "scrolled": true
   },
   "outputs": [
    {
     "name": "stdout",
     "output_type": "stream",
     "text": [
      "['m', 'n', 'o', 'p']\n"
     ]
    }
   ],
   "source": [
    "list2 = ['m','n','o','p']\n",
    "print(list2)"
   ]
  },
  {
   "cell_type": "code",
   "execution_count": 20,
   "id": "07c03fcd",
   "metadata": {
    "scrolled": true
   },
   "outputs": [],
   "source": [
    "list2.append('q')"
   ]
  },
  {
   "cell_type": "code",
   "execution_count": 21,
   "id": "cfad479b",
   "metadata": {
    "scrolled": true
   },
   "outputs": [
    {
     "data": {
      "text/plain": [
       "['m', 'n', 'o', 'p', 'q', 'q', 'q']"
      ]
     },
     "execution_count": 21,
     "metadata": {},
     "output_type": "execute_result"
    }
   ],
   "source": [
    "list2"
   ]
  },
  {
   "cell_type": "code",
   "execution_count": 22,
   "id": "0c9e821c",
   "metadata": {
    "scrolled": true
   },
   "outputs": [
    {
     "data": {
      "text/plain": [
       "<function list.pop(index=-1, /)>"
      ]
     },
     "execution_count": 22,
     "metadata": {},
     "output_type": "execute_result"
    }
   ],
   "source": [
    "list2.pop"
   ]
  },
  {
   "cell_type": "code",
   "execution_count": 23,
   "id": "7a7da2c5",
   "metadata": {
    "scrolled": true
   },
   "outputs": [
    {
     "name": "stdout",
     "output_type": "stream",
     "text": [
      "['m', 'n', 'o', 'p', 'q', 'q', 'q']\n"
     ]
    }
   ],
   "source": [
    "print(list2)"
   ]
  },
  {
   "cell_type": "code",
   "execution_count": 24,
   "id": "9d4f5160",
   "metadata": {
    "scrolled": true
   },
   "outputs": [],
   "source": [
    "# Second lecture"
   ]
  },
  {
   "cell_type": "code",
   "execution_count": 25,
   "id": "dcd24ba8",
   "metadata": {
    "scrolled": true
   },
   "outputs": [
    {
     "data": {
      "text/plain": [
       "{1, 2, 3, 4, 5, 6, 7, 8, 9}"
      ]
     },
     "execution_count": 25,
     "metadata": {},
     "output_type": "execute_result"
    }
   ],
   "source": [
    "{1,2,3,4,5,6,7,8,9}"
   ]
  },
  {
   "cell_type": "code",
   "execution_count": 26,
   "id": "b3bde27f",
   "metadata": {
    "scrolled": true
   },
   "outputs": [
    {
     "data": {
      "text/plain": [
       "{1, 2, 3, 4, 5, 6}"
      ]
     },
     "execution_count": 26,
     "metadata": {},
     "output_type": "execute_result"
    }
   ],
   "source": [
    "{1,2,1,2,2,3,3,4,5,5,6}"
   ]
  },
  {
   "cell_type": "code",
   "execution_count": 27,
   "id": "7bb20231",
   "metadata": {
    "scrolled": true
   },
   "outputs": [
    {
     "data": {
      "text/plain": [
       "{1, 2, 3}"
      ]
     },
     "execution_count": 27,
     "metadata": {},
     "output_type": "execute_result"
    }
   ],
   "source": [
    "{1,1,1,2,2,2,3}"
   ]
  },
  {
   "cell_type": "code",
   "execution_count": 28,
   "id": "fd4ffc7b",
   "metadata": {
    "scrolled": true
   },
   "outputs": [
    {
     "data": {
      "text/plain": [
       "False"
      ]
     },
     "execution_count": 28,
     "metadata": {},
     "output_type": "execute_result"
    }
   ],
   "source": [
    "1>2"
   ]
  },
  {
   "cell_type": "code",
   "execution_count": 29,
   "id": "2be2ac36",
   "metadata": {
    "scrolled": true
   },
   "outputs": [
    {
     "data": {
      "text/plain": [
       "True"
      ]
     },
     "execution_count": 29,
     "metadata": {},
     "output_type": "execute_result"
    }
   ],
   "source": [
    "2>1"
   ]
  },
  {
   "cell_type": "code",
   "execution_count": 30,
   "id": "908be1fc",
   "metadata": {
    "scrolled": true
   },
   "outputs": [
    {
     "data": {
      "text/plain": [
       "True"
      ]
     },
     "execution_count": 30,
     "metadata": {},
     "output_type": "execute_result"
    }
   ],
   "source": [
    "True "
   ]
  },
  {
   "cell_type": "code",
   "execution_count": 31,
   "id": "2bd1bd38",
   "metadata": {
    "scrolled": true
   },
   "outputs": [
    {
     "data": {
      "text/plain": [
       "False"
      ]
     },
     "execution_count": 31,
     "metadata": {},
     "output_type": "execute_result"
    }
   ],
   "source": [
    "False"
   ]
  },
  {
   "cell_type": "code",
   "execution_count": 32,
   "id": "8ad5c5cd",
   "metadata": {
    "scrolled": true
   },
   "outputs": [
    {
     "data": {
      "text/plain": [
       "False"
      ]
     },
     "execution_count": 32,
     "metadata": {},
     "output_type": "execute_result"
    }
   ],
   "source": [
    "True and False"
   ]
  },
  {
   "cell_type": "code",
   "execution_count": 33,
   "id": "64f57038",
   "metadata": {
    "scrolled": true
   },
   "outputs": [
    {
     "data": {
      "text/plain": [
       "True"
      ]
     },
     "execution_count": 33,
     "metadata": {},
     "output_type": "execute_result"
    }
   ],
   "source": [
    "True or False"
   ]
  },
  {
   "cell_type": "code",
   "execution_count": 34,
   "id": "62d6b537",
   "metadata": {
    "scrolled": true
   },
   "outputs": [],
   "source": [
    "# dict,set,tuple,comparison operator\n",
    "# and, or, if statement"
   ]
  },
  {
   "cell_type": "code",
   "execution_count": 35,
   "id": "e1fb63ec",
   "metadata": {
    "scrolled": true
   },
   "outputs": [],
   "source": [
    "# Third Lecture"
   ]
  },
  {
   "cell_type": "code",
   "execution_count": 38,
   "id": "aca8df29",
   "metadata": {
    "scrolled": true
   },
   "outputs": [
    {
     "name": "stdout",
     "output_type": "stream",
     "text": [
      "Second\n"
     ]
    }
   ],
   "source": [
    "if 2!=2:\n",
    "    print(\"First\")\n",
    "elif 2!=3:\n",
    "    print(\"Second\")"
   ]
  },
  {
   "cell_type": "code",
   "execution_count": 39,
   "id": "7efb1322",
   "metadata": {
    "scrolled": true
   },
   "outputs": [
    {
     "name": "stdout",
     "output_type": "stream",
     "text": [
      "1\n",
      "2\n",
      "3\n",
      "4\n",
      "5\n"
     ]
    }
   ],
   "source": [
    "seq = [1,2,3,4,5]\n",
    "for jelly in seq:\n",
    "    print(jelly)"
   ]
  },
  {
   "cell_type": "code",
   "execution_count": 40,
   "id": "574977c3",
   "metadata": {
    "scrolled": true
   },
   "outputs": [
    {
     "name": "stdout",
     "output_type": "stream",
     "text": [
      "'i' is: 1\n",
      "'i' is: 2\n",
      "'i' is: 3\n",
      "'i' is: 4\n"
     ]
    }
   ],
   "source": [
    "i=1\n",
    "while i<5:\n",
    "    print(\"'i' is: {}\".format(i))\n",
    "    i=i+1"
   ]
  },
  {
   "cell_type": "code",
   "execution_count": 42,
   "id": "77760931",
   "metadata": {
    "scrolled": true
   },
   "outputs": [
    {
     "name": "stdout",
     "output_type": "stream",
     "text": [
      "'i' is: 1\n",
      "'i' is: 2\n",
      "'i' is: 3\n",
      "'i' is: 4\n"
     ]
    }
   ],
   "source": [
    "i=1\n",
    "while i<5:\n",
    "    print(\"'i' is:\",i)\n",
    "    i=i+1"
   ]
  },
  {
   "cell_type": "code",
   "execution_count": 44,
   "id": "c273739f",
   "metadata": {
    "scrolled": true
   },
   "outputs": [
    {
     "data": {
      "text/plain": [
       "216"
      ]
     },
     "execution_count": 44,
     "metadata": {},
     "output_type": "execute_result"
    }
   ],
   "source": [
    "def cube(num):\n",
    "    \"\"\"\n",
    "    THIS IS DECUMENTATION STRING\n",
    "    CAN GO MULTIPLE LINES\n",
    "    THIS FUNCTION CUBES A NUMBER\n",
    "    \"\"\"\n",
    "    return num**3\n",
    "output = cube(6)\n",
    "output"
   ]
  },
  {
   "cell_type": "code",
   "execution_count": 46,
   "id": "da4b2c5a",
   "metadata": {
    "scrolled": true
   },
   "outputs": [],
   "source": [
    "# cube  Only for seeing DOC-STRING"
   ]
  },
  {
   "cell_type": "code",
   "execution_count": 47,
   "id": "bc3c106d",
   "metadata": {
    "scrolled": true
   },
   "outputs": [
    {
     "name": "stdout",
     "output_type": "stream",
     "text": [
      "The number is: 0\n",
      "The number is: 2\n",
      "The number is: 4\n",
      "The number is: 6\n",
      "The number is: 8\n"
     ]
    }
   ],
   "source": [
    "for item in range(0,10,2):\n",
    "    print(\"The number is: {}\".format(item))"
   ]
  },
  {
   "cell_type": "code",
   "execution_count": 51,
   "id": "f684f877",
   "metadata": {
    "scrolled": true
   },
   "outputs": [
    {
     "data": {
      "text/plain": [
       "{'apple', 'orange', 'pappaya', 'pinapple'}"
      ]
     },
     "execution_count": 51,
     "metadata": {},
     "output_type": "execute_result"
    }
   ],
   "source": [
    "juice = ['apple','orange','pappaya','pinapple']\n",
    "{fruits for fruits in juice}"
   ]
  },
  {
   "cell_type": "code",
   "execution_count": 52,
   "id": "60ae5717",
   "metadata": {
    "scrolled": false
   },
   "outputs": [
    {
     "data": {
      "text/plain": [
       "[1, 2, 3, 4, 5, 6, 7]"
      ]
     },
     "execution_count": 52,
     "metadata": {},
     "output_type": "execute_result"
    }
   ],
   "source": [
    "juice = {1,2,3,4,5,6,7} \n",
    "[fruits for fruits in juice]"
   ]
  },
  {
   "cell_type": "code",
   "execution_count": 54,
   "id": "2c5cfe35",
   "metadata": {
    "scrolled": true
   },
   "outputs": [
    {
     "data": {
      "text/plain": [
       "[-10, -8, -6, -4, -2, 0, 2, 4, 6, 8]"
      ]
     },
     "execution_count": 54,
     "metadata": {},
     "output_type": "execute_result"
    }
   ],
   "source": [
    "[item for item in range(-10,10,2)]"
   ]
  },
  {
   "cell_type": "code",
   "execution_count": 55,
   "id": "58c3cd80",
   "metadata": {
    "scrolled": true
   },
   "outputs": [],
   "source": [
    "def time2(num):\n",
    "    return num**2"
   ]
  },
  {
   "cell_type": "code",
   "execution_count": 56,
   "id": "114da148",
   "metadata": {},
   "outputs": [
    {
     "data": {
      "text/plain": [
       "81"
      ]
     },
     "execution_count": 56,
     "metadata": {},
     "output_type": "execute_result"
    }
   ],
   "source": [
    "time2(9)"
   ]
  },
  {
   "cell_type": "code",
   "execution_count": 58,
   "id": "a46f282b",
   "metadata": {},
   "outputs": [
    {
     "data": {
      "text/plain": [
       "[1, 4, 9, 16, 25, 36, 49, 64, 81]"
      ]
     },
     "execution_count": 58,
     "metadata": {},
     "output_type": "execute_result"
    }
   ],
   "source": [
    "# map()\n",
    "seq = [1,2,3,4,5,6,7,8,9]\n",
    "list(map(time2,seq))"
   ]
  },
  {
   "cell_type": "code",
   "execution_count": 59,
   "id": "ae694723",
   "metadata": {},
   "outputs": [
    {
     "data": {
      "text/plain": [
       "[1, 8, 27, 64, 125, 216, 343, 512, 729]"
      ]
     },
     "execution_count": 59,
     "metadata": {},
     "output_type": "execute_result"
    }
   ],
   "source": [
    "# lambda function\n",
    "list(map(lambda var: var**3, seq))"
   ]
  },
  {
   "cell_type": "code",
   "execution_count": 62,
   "id": "8bc7bec7",
   "metadata": {},
   "outputs": [
    {
     "data": {
      "text/plain": [
       "[2, 4, 6, 8]"
      ]
     },
     "execution_count": 62,
     "metadata": {},
     "output_type": "execute_result"
    }
   ],
   "source": [
    "# filter function\n",
    "list(filter(lambda var: var%2 == 0, seq))"
   ]
  },
  {
   "cell_type": "code",
   "execution_count": 63,
   "id": "9bd6d715",
   "metadata": {},
   "outputs": [
    {
     "data": {
      "text/plain": [
       "[False, True, False, True, False, True, False, True, False]"
      ]
     },
     "execution_count": 63,
     "metadata": {},
     "output_type": "execute_result"
    }
   ],
   "source": [
    "list(map(lambda var: var%2 == 0, seq))"
   ]
  },
  {
   "cell_type": "code",
   "execution_count": 64,
   "id": "614742b4",
   "metadata": {},
   "outputs": [],
   "source": [
    "var = 'my name is Ayush Verma'"
   ]
  },
  {
   "cell_type": "code",
   "execution_count": 65,
   "id": "e348cd7d",
   "metadata": {},
   "outputs": [],
   "source": [
    "mix = [(1,2,3),(11,12,13),(21,22,23)]"
   ]
  },
  {
   "cell_type": "code",
   "execution_count": 66,
   "id": "dab4ac31",
   "metadata": {},
   "outputs": [
    {
     "data": {
      "text/plain": [
       "[(1, 2, 3), (11, 12, 13), (21, 22, 23)]"
      ]
     },
     "execution_count": 66,
     "metadata": {},
     "output_type": "execute_result"
    }
   ],
   "source": [
    "mix"
   ]
  },
  {
   "cell_type": "code",
   "execution_count": 67,
   "id": "7467094d",
   "metadata": {},
   "outputs": [
    {
     "name": "stdout",
     "output_type": "stream",
     "text": [
      "(1, 2, 3)\n",
      "(11, 12, 13)\n",
      "(21, 22, 23)\n"
     ]
    }
   ],
   "source": [
    "for item in mix:\n",
    "    print(item)"
   ]
  },
  {
   "cell_type": "code",
   "execution_count": 69,
   "id": "ab936814",
   "metadata": {},
   "outputs": [
    {
     "name": "stdout",
     "output_type": "stream",
     "text": [
      "1 2 3\n",
      "11 12 13\n",
      "21 22 23\n"
     ]
    }
   ],
   "source": [
    "for (a,b,c) in mix:\n",
    "    print(a,b,c)"
   ]
  },
  {
   "cell_type": "code",
   "execution_count": 70,
   "id": "6c55ae30",
   "metadata": {},
   "outputs": [
    {
     "name": "stdout",
     "output_type": "stream",
     "text": [
      "2\n",
      "12\n",
      "22\n"
     ]
    }
   ],
   "source": [
    "for (a,b,c) in mix:\n",
    "    print(b)"
   ]
  },
  {
   "cell_type": "code",
   "execution_count": null,
   "id": "15d4059d",
   "metadata": {},
   "outputs": [],
   "source": [
    "for (a,b,c) in mix:\n",
    "    print(a,b,c)"
   ]
  }
 ],
 "metadata": {
  "celltoolbar": "Raw Cell Format",
  "kernelspec": {
   "display_name": "Python 3",
   "language": "python",
   "name": "python3"
  },
  "language_info": {
   "codemirror_mode": {
    "name": "ipython",
    "version": 3
   },
   "file_extension": ".py",
   "mimetype": "text/x-python",
   "name": "python",
   "nbconvert_exporter": "python",
   "pygments_lexer": "ipython3",
   "version": "3.8.8"
  }
 },
 "nbformat": 4,
 "nbformat_minor": 5
}
