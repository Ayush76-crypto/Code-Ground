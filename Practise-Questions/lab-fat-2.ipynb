{
 "cells": [
  {
   "cell_type": "code",
   "execution_count": 1,
   "id": "51998606",
   "metadata": {},
   "outputs": [],
   "source": [
    "import pandas as pd\n",
    "import numpy as np\n",
    "import statistics\n",
    "import seaborn as sn\n",
    "import numpy.linalg as la"
   ]
  },
  {
   "cell_type": "code",
   "execution_count": 2,
   "id": "7dafc662",
   "metadata": {},
   "outputs": [
    {
     "name": "stdout",
     "output_type": "stream",
     "text": [
      "       0\n",
      "7.2  2.0\n",
      "7.5  2.4\n",
      "6.8  3.2\n",
      "6.8  4.3\n",
      "5.1  5.7\n",
      "5.4  6.3\n",
      "4.8  7.5\n",
      "4.8  8.3\n",
      "4.4  8.7\n",
      "3.5  9.2\n",
      "\n",
      " mean of x:\n",
      "\n",
      "5.76\n",
      "\n",
      " variance of x:\n",
      "\n",
      "7.1515555555555546\n",
      "\n",
      " mean of y:\n",
      "\n",
      "5.63\n",
      "\n",
      " variance of y:\n",
      "\n",
      "1.829\n",
      "[[2.  2.4 3.2 4.3 5.7 6.3 7.5 8.3 8.7 9.2]\n",
      " [7.2 7.5 6.8 6.8 5.1 5.4 4.8 4.8 4.4 3.5]]\n",
      "\n",
      " Covariance matrix:\n",
      "\n",
      "[[ 7.15155556 -3.49755556]\n",
      " [-3.49755556  1.829     ]]\n",
      "\n",
      "eigenvalue, eigenvector of Covariance matrix:\n",
      "\n",
      "[8.88519465 0.09536091] [[ 0.89597305  0.44410843]\n",
      " [-0.44410843  0.89597305]]\n"
     ]
    },
    {
     "data": {
      "image/png": "[encoded data removed]",
      "text/plain": [
       "<Figure size 432x288 with 2 Axes>"
      ]
     },
     "metadata": {
      "needs_background": "light"
     },
     "output_type": "display_data"
    }
   ],
   "source": [
    "x=[2,2.4,3.2,4.3,5.7,6.3,7.5,8.3,8.7,9.2]\n",
    "y=[7.2,7.5,6.8,6.8,5.1,5.4,4.8,4.8,4.4,3.5]\n",
    "pca_data = pd.DataFrame(x, y)\n",
    "print(pca_data)\n",
    "print(\"\\n mean of x:\\n\")\n",
    "print(statistics.mean(x))\n",
    "print(\"\\n variance of x:\\n\")\n",
    "print(statistics.variance(x))\n",
    "\n",
    "print(\"\\n mean of y:\\n\")\n",
    "print(statistics.mean(y))\n",
    "print(\"\\n variance of y:\\n\")\n",
    "print(statistics.variance(y))\n",
    "\n",
    "data = np.array([x, y])\n",
    "print(data)\n",
    "print(\"\\n Covariance matrix:\\n\")\n",
    "covMatrix = np.cov(data, bias = False)\n",
    "print(covMatrix)\n",
    "sn.heatmap(covMatrix,annot=True,fmt='g')\n",
    "print(\"\\neigenvalue, eigenvector of Covariance matrix:\\n\")\n",
    "eigenvalue, eigenvector = la.eig(covMatrix)\n",
    "\n",
    "print(eigenvalue, eigenvector)"
   ]
  },
  {
   "cell_type": "code",
   "execution_count": 3,
   "id": "e5d56fe4",
   "metadata": {},
   "outputs": [
    {
     "name": "stdout",
     "output_type": "stream",
     "text": [
      "\n",
      " Correlation matrix:\n",
      "\n",
      "          x         y\n",
      "x  1.000000 -0.967069\n",
      "y -0.967069  1.000000\n",
      "\n",
      "eigenvalue, eigenvector of Correlation matrix:\n",
      "\n",
      "(array([1.96706911, 0.03293089]), array([[ 0.70710678,  0.70710678],\n",
      "       [-0.70710678,  0.70710678]]))\n"
     ]
    }
   ],
   "source": [
    "data = {'x': [2,2.4,3.2,4.3,5.7,6.3,7.5,8.3,8.7,9.2],\n",
    "        'y': [7.2,7.5,6.8,6.8,5.1,5.4,4.8,4.8,4.4,3.5]}\n",
    "df = pd.DataFrame(data,columns = ['x', 'y'])\n",
    "corrMatrix = df.corr()\n",
    "print(\"\\n Correlation matrix:\\n\")\n",
    "print(corrMatrix)\n",
    "print(\"\\neigenvalue, eigenvector of Correlation matrix:\\n\")\n",
    "eigen = la.eig(corrMatrix)\n",
    "print(eigen)"
   ]
  }
 ],
 "metadata": {
  "kernelspec": {
   "display_name": "Python 3",
   "language": "python",
   "name": "python3"
  },
  "language_info": {
   "codemirror_mode": {
    "name": "ipython",
    "version": 3
   },
   "file_extension": ".py",
   "mimetype": "text/x-python",
   "name": "python",
   "nbconvert_exporter": "python",
   "pygments_lexer": "ipython3",
   "version": "3.8.8"
  }
 },
 "nbformat": 4,
 "nbformat_minor": 5
}
