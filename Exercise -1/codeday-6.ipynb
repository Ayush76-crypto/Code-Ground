{
 "cells": [
  {
   "cell_type": "code",
   "execution_count": 1,
   "id": "1cb80c13",
   "metadata": {},
   "outputs": [
    {
     "name": "stdout",
     "output_type": "stream",
     "text": [
      "   y1  y2   x\n",
      "0  10  15  12\n",
      "1   5   9  10\n",
      "2   7   3   7\n",
      "3  19  25   5\n",
      "4  11   7  12\n",
      "5   8  13  20\n",
      "6   9  12   7\n",
      "7  11  13   8\n",
      "8  10   7  12\n",
      "9  12  10  13\n"
     ]
    }
   ],
   "source": [
    "import pandas as pd\n",
    "data = { 'y1': [10,5,7,19,11,8,9,11,10,12],\n",
    "       'y2': [15,9,3,25,7,13,12,13,7,10],\n",
    "       'x': [12,10,7,5,12,20,7,8,12,13]}\n",
    "\n",
    "df_manova = pd.DataFrame(data)\n",
    "print(df_manova)"
   ]
  },
  {
   "cell_type": "code",
   "execution_count": 2,
   "id": "fe095cfd",
   "metadata": {},
   "outputs": [],
   "source": [
    "import statsmodels.api as sm\n",
    "from statsmodels.formula.api import ols\n",
    "from statsmodels.multivariate.manova import MANOVA\n",
    "from statsmodels.stats.multicomp import pairwise_tukeyhsd"
   ]
  },
  {
   "cell_type": "code",
   "execution_count": 4,
   "id": "2d60063d",
   "metadata": {},
   "outputs": [
    {
     "name": "stdout",
     "output_type": "stream",
     "text": [
      "                 Multivariate linear model\n",
      "===========================================================\n",
      "                                                           \n",
      "-----------------------------------------------------------\n",
      "       Intercept        Value  Num DF Den DF F Value Pr > F\n",
      "-----------------------------------------------------------\n",
      "          Wilks' lambda 0.3266 2.0000 7.0000  7.2148 0.0199\n",
      "         Pillai's trace 0.6734 2.0000 7.0000  7.2148 0.0199\n",
      " Hotelling-Lawley trace 2.0614 2.0000 7.0000  7.2148 0.0199\n",
      "    Roy's greatest root 2.0614 2.0000 7.0000  7.2148 0.0199\n",
      "-----------------------------------------------------------\n",
      "                                                           \n",
      "-----------------------------------------------------------\n",
      "           x            Value  Num DF Den DF F Value Pr > F\n",
      "-----------------------------------------------------------\n",
      "          Wilks' lambda 0.8820 2.0000 7.0000  0.4681 0.6444\n",
      "         Pillai's trace 0.1180 2.0000 7.0000  0.4681 0.6444\n",
      " Hotelling-Lawley trace 0.1338 2.0000 7.0000  0.4681 0.6444\n",
      "    Roy's greatest root 0.1338 2.0000 7.0000  0.4681 0.6444\n",
      "===========================================================\n",
      "\n"
     ]
    }
   ],
   "source": [
    "maov = MANOVA.from_formula('y1+y2~x',data=df_manova)\n",
    "print(maov.mv_test())"
   ]
  }
 ],
 "metadata": {
  "kernelspec": {
   "display_name": "Python 3",
   "language": "python",
   "name": "python3"
  },
  "language_info": {
   "codemirror_mode": {
    "name": "ipython",
    "version": 3
   },
   "file_extension": ".py",
   "mimetype": "text/x-python",
   "name": "python",
   "nbconvert_exporter": "python",
   "pygments_lexer": "ipython3",
   "version": "3.8.8"
  }
 },
 "nbformat": 4,
 "nbformat_minor": 5
}
