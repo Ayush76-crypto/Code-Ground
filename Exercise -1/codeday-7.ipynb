{
 "cells": [
  {
   "cell_type": "code",
   "execution_count": 1,
   "id": "429fde54",
   "metadata": {},
   "outputs": [],
   "source": [
    "import pandas as pd\n",
    "import statsmodels.api as sm\n",
    "from statsmodels.formula.api import ols\n",
    "from statsmodels.multivariate.manova import MANOVA\n",
    "from statsmodels.stats.multicomp import pairwise_tukeyhsd"
   ]
  },
  {
   "cell_type": "code",
   "execution_count": 2,
   "id": "0ed200cc",
   "metadata": {},
   "outputs": [
    {
     "name": "stdout",
     "output_type": "stream",
     "text": [
      "   y1  y2  x1  x2\n",
      "0  10  15  12  10\n",
      "1   5   9  10   8\n",
      "2   7   3   7   6\n",
      "3  19  25   5  23\n",
      "4  11   7  12  12\n",
      "5   8  13  20  11\n",
      "6   9  12   7  13\n",
      "7  11  13   8  11\n",
      "8  10   7  12  10\n",
      "9  12  10  13  12\n"
     ]
    }
   ],
   "source": [
    "data = { 'y1': [10,5,7,19,11,8,9,11,10,12],\n",
    "       'y2': [15,9,3,25,7,13,12,13,7,10],\n",
    "       'x1': [12,10,7,5,12,20,7,8,12,13],\n",
    "       'x2': [10,8,6,23,12,11,13,11,10,12]}\n",
    "\n",
    "df_manova = pd.DataFrame(data)\n",
    "print(df_manova)"
   ]
  },
  {
   "cell_type": "code",
   "execution_count": 3,
   "id": "e485fe49",
   "metadata": {},
   "outputs": [
    {
     "name": "stdout",
     "output_type": "stream",
     "text": [
      "                 Multivariate linear model\n",
      "===========================================================\n",
      "                                                           \n",
      "-----------------------------------------------------------\n",
      "       Intercept        Value  Num DF Den DF F Value Pr > F\n",
      "-----------------------------------------------------------\n",
      "          Wilks' lambda 0.8753 2.0000 6.0000  0.4275 0.6705\n",
      "         Pillai's trace 0.1247 2.0000 6.0000  0.4275 0.6705\n",
      " Hotelling-Lawley trace 0.1425 2.0000 6.0000  0.4275 0.6705\n",
      "    Roy's greatest root 0.1425 2.0000 6.0000  0.4275 0.6705\n",
      "-----------------------------------------------------------\n",
      "                                                           \n",
      "-----------------------------------------------------------\n",
      "           x1           Value  Num DF Den DF F Value Pr > F\n",
      "-----------------------------------------------------------\n",
      "          Wilks' lambda 0.9687 2.0000 6.0000  0.0970 0.9090\n",
      "         Pillai's trace 0.0313 2.0000 6.0000  0.0970 0.9090\n",
      " Hotelling-Lawley trace 0.0323 2.0000 6.0000  0.0970 0.9090\n",
      "    Roy's greatest root 0.0323 2.0000 6.0000  0.0970 0.9090\n",
      "-----------------------------------------------------------\n",
      "                                                           \n",
      "-----------------------------------------------------------\n",
      "           x2           Value  Num DF Den DF F Value Pr > F\n",
      "-----------------------------------------------------------\n",
      "          Wilks' lambda 0.1059 2.0000 6.0000 25.3395 0.0012\n",
      "         Pillai's trace 0.8941 2.0000 6.0000 25.3395 0.0012\n",
      " Hotelling-Lawley trace 8.4465 2.0000 6.0000 25.3395 0.0012\n",
      "    Roy's greatest root 8.4465 2.0000 6.0000 25.3395 0.0012\n",
      "===========================================================\n",
      "\n"
     ]
    }
   ],
   "source": [
    "maov = MANOVA.from_formula('y1+y2~x1+x2',data=df_manova)\n",
    "print(maov.mv_test())"
   ]
  }
 ],
 "metadata": {
  "kernelspec": {
   "display_name": "Python 3",
   "language": "python",
   "name": "python3"
  },
  "language_info": {
   "codemirror_mode": {
    "name": "ipython",
    "version": 3
   },
   "file_extension": ".py",
   "mimetype": "text/x-python",
   "name": "python",
   "nbconvert_exporter": "python",
   "pygments_lexer": "ipython3",
   "version": "3.8.8"
  }
 },
 "nbformat": 4,
 "nbformat_minor": 5
}
