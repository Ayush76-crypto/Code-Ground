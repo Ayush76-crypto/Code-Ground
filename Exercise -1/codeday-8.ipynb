{
 "cells": [
  {
   "cell_type": "markdown",
   "id": "0788c3bd",
   "metadata": {},
   "source": [
    "# Covaraince Matrices"
   ]
  },
  {
   "cell_type": "code",
   "execution_count": 1,
   "id": "a4c9f3d2",
   "metadata": {},
   "outputs": [],
   "source": [
    "x = [1,1.9,2.8,3.6,4.3,5.4,6.2,7.1,7.5,8.4]\n",
    "y = [6.9,6.4,5.4,5.6,4.5,4.7,3.8,3.8,3.4,2.5]"
   ]
  },
  {
   "cell_type": "code",
   "execution_count": 3,
   "id": "f954e935",
   "metadata": {},
   "outputs": [
    {
     "data": {
      "text/html": [
       "<div>\n",
       "<style scoped>\n",
       "    .dataframe tbody tr th:only-of-type {\n",
       "        vertical-align: middle;\n",
       "    }\n",
       "\n",
       "    .dataframe tbody tr th {\n",
       "        vertical-align: top;\n",
       "    }\n",
       "\n",
       "    .dataframe thead th {\n",
       "        text-align: right;\n",
       "    }\n",
       "</style>\n",
       "<table border=\"1\" class=\"dataframe\">\n",
       "  <thead>\n",
       "    <tr style=\"text-align: right;\">\n",
       "      <th></th>\n",
       "      <th>0</th>\n",
       "    </tr>\n",
       "  </thead>\n",
       "  <tbody>\n",
       "    <tr>\n",
       "      <th>6.9</th>\n",
       "      <td>1.0</td>\n",
       "    </tr>\n",
       "    <tr>\n",
       "      <th>6.4</th>\n",
       "      <td>1.9</td>\n",
       "    </tr>\n",
       "    <tr>\n",
       "      <th>5.4</th>\n",
       "      <td>2.8</td>\n",
       "    </tr>\n",
       "    <tr>\n",
       "      <th>5.6</th>\n",
       "      <td>3.6</td>\n",
       "    </tr>\n",
       "    <tr>\n",
       "      <th>4.5</th>\n",
       "      <td>4.3</td>\n",
       "    </tr>\n",
       "    <tr>\n",
       "      <th>4.7</th>\n",
       "      <td>5.4</td>\n",
       "    </tr>\n",
       "    <tr>\n",
       "      <th>3.8</th>\n",
       "      <td>6.2</td>\n",
       "    </tr>\n",
       "    <tr>\n",
       "      <th>3.8</th>\n",
       "      <td>7.1</td>\n",
       "    </tr>\n",
       "    <tr>\n",
       "      <th>3.4</th>\n",
       "      <td>7.5</td>\n",
       "    </tr>\n",
       "    <tr>\n",
       "      <th>2.5</th>\n",
       "      <td>8.4</td>\n",
       "    </tr>\n",
       "  </tbody>\n",
       "</table>\n",
       "</div>"
      ],
      "text/plain": [
       "       0\n",
       "6.9  1.0\n",
       "6.4  1.9\n",
       "5.4  2.8\n",
       "5.6  3.6\n",
       "4.5  4.3\n",
       "4.7  5.4\n",
       "3.8  6.2\n",
       "3.8  7.1\n",
       "3.4  7.5\n",
       "2.5  8.4"
      ]
     },
     "execution_count": 3,
     "metadata": {},
     "output_type": "execute_result"
    }
   ],
   "source": [
    "import pandas as pd\n",
    "pca_data = pd.DataFrame(x,y)\n",
    "pca_data"
   ]
  },
  {
   "cell_type": "code",
   "execution_count": 4,
   "id": "a1087789",
   "metadata": {},
   "outputs": [
    {
     "data": {
      "text/plain": [
       "6.266222222222223"
      ]
     },
     "execution_count": 4,
     "metadata": {},
     "output_type": "execute_result"
    }
   ],
   "source": [
    "import statistics\n",
    "statistics.variance(x)"
   ]
  },
  {
   "cell_type": "code",
   "execution_count": 5,
   "id": "c4b38637",
   "metadata": {},
   "outputs": [
    {
     "data": {
      "text/plain": [
       "1.9133333333333338"
      ]
     },
     "execution_count": 5,
     "metadata": {},
     "output_type": "execute_result"
    }
   ],
   "source": [
    "statistics.variance(y)"
   ]
  },
  {
   "cell_type": "code",
   "execution_count": 6,
   "id": "152fbbb8",
   "metadata": {},
   "outputs": [
    {
     "data": {
      "text/plain": [
       "8.179555555555556"
      ]
     },
     "execution_count": 6,
     "metadata": {},
     "output_type": "execute_result"
    }
   ],
   "source": [
    "total_variance = statistics.variance(x) + statistics.variance(y)\n",
    "total_variance"
   ]
  },
  {
   "cell_type": "code",
   "execution_count": 8,
   "id": "a196c49c",
   "metadata": {},
   "outputs": [],
   "source": [
    "import numpy as np"
   ]
  },
  {
   "cell_type": "code",
   "execution_count": 9,
   "id": "42eaca38",
   "metadata": {},
   "outputs": [
    {
     "data": {
      "text/plain": [
       "array([[1. , 1.9, 2.8, 3.6, 4.3, 5.4, 6.2, 7.1, 7.5, 8.4],\n",
       "       [6.9, 6.4, 5.4, 5.6, 4.5, 4.7, 3.8, 3.8, 3.4, 2.5]])"
      ]
     },
     "execution_count": 9,
     "metadata": {},
     "output_type": "execute_result"
    }
   ],
   "source": [
    "data = np.array([x, y])\n",
    "data"
   ]
  },
  {
   "cell_type": "code",
   "execution_count": 10,
   "id": "ab0aaae9",
   "metadata": {},
   "outputs": [
    {
     "data": {
      "text/plain": [
       "array([[ 6.26622222, -3.38111111],\n",
       "       [-3.38111111,  1.91333333]])"
      ]
     },
     "execution_count": 10,
     "metadata": {},
     "output_type": "execute_result"
    }
   ],
   "source": [
    "covMatrix = np.cov(data, bias = False)\n",
    "covMatrix"
   ]
  },
  {
   "cell_type": "code",
   "execution_count": 11,
   "id": "70cf9130",
   "metadata": {},
   "outputs": [
    {
     "data": {
      "text/plain": [
       "<AxesSubplot:>"
      ]
     },
     "execution_count": 11,
     "metadata": {},
     "output_type": "execute_result"
    },
    {
     "data": {
      "image/png": "[encoded data removed]",
      "text/plain": [
       "<Figure size 432x288 with 2 Axes>"
      ]
     },
     "metadata": {
      "needs_background": "light"
     },
     "output_type": "display_data"
    }
   ],
   "source": [
    "import seaborn as sn\n",
    "sn.heatmap(covMatrix, annot=True, fmt='g')"
   ]
  },
  {
   "cell_type": "code",
   "execution_count": 12,
   "id": "b919d301",
   "metadata": {},
   "outputs": [
    {
     "data": {
      "text/plain": [
       "(array([8.11082525, 0.06873031]),\n",
       " array([[ 0.87785621,  0.47892429],\n",
       "        [-0.47892429,  0.87785621]]))"
      ]
     },
     "execution_count": 12,
     "metadata": {},
     "output_type": "execute_result"
    }
   ],
   "source": [
    "import numpy.linalg as la\n",
    "eigen = la.eig(covMatrix)\n",
    "eigen"
   ]
  },
  {
   "cell_type": "code",
   "execution_count": 13,
   "id": "7c46f11d",
   "metadata": {},
   "outputs": [
    {
     "data": {
      "text/plain": [
       "(array([8.11082525, 0.06873031]),\n",
       " array([[ 0.87785621,  0.47892429],\n",
       "        [-0.47892429,  0.87785621]]))"
      ]
     },
     "execution_count": 13,
     "metadata": {},
     "output_type": "execute_result"
    }
   ],
   "source": [
    "eigenvalue, eigenvector = la.eig(covMatrix)\n",
    "eigenvalue, eigenvector"
   ]
  },
  {
   "cell_type": "markdown",
   "id": "ba7e1060",
   "metadata": {},
   "source": [
    "## Correlation Matrix"
   ]
  },
  {
   "cell_type": "code",
   "execution_count": 14,
   "id": "3e2f540f",
   "metadata": {},
   "outputs": [],
   "source": [
    "data1 = {'x' : [1,1.9,2.8,3.6,4.3,5.4,6.2,7.1,7.5,8.4] ,\n",
    "        'y': [6.9,6.4,5.4,5.6,4.5,4.7,3.8,3.8,3.4,2.5] }"
   ]
  },
  {
   "cell_type": "code",
   "execution_count": 16,
   "id": "ada3c3b7",
   "metadata": {},
   "outputs": [
    {
     "name": "stdout",
     "output_type": "stream",
     "text": [
      "          x         y\n",
      "x  1.000000 -0.976475\n",
      "y -0.976475  1.000000\n"
     ]
    }
   ],
   "source": [
    "df = pd.DataFrame(data1,columns = ['x', 'y'])\n",
    "corrMatrix = df.corr()\n",
    "print(corrMatrix)"
   ]
  },
  {
   "cell_type": "code",
   "execution_count": 17,
   "id": "0aca206d",
   "metadata": {},
   "outputs": [
    {
     "data": {
      "text/plain": [
       "(array([1.97647522, 0.02352478]),\n",
       " array([[ 0.70710678,  0.70710678],\n",
       "        [-0.70710678,  0.70710678]]))"
      ]
     },
     "execution_count": 17,
     "metadata": {},
     "output_type": "execute_result"
    }
   ],
   "source": [
    "eigen = la.eig(corrMatrix)\n",
    "eigen"
   ]
  }
 ],
 "metadata": {
  "kernelspec": {
   "display_name": "Python 3",
   "language": "python",
   "name": "python3"
  },
  "language_info": {
   "codemirror_mode": {
    "name": "ipython",
    "version": 3
   },
   "file_extension": ".py",
   "mimetype": "text/x-python",
   "name": "python",
   "nbconvert_exporter": "python",
   "pygments_lexer": "ipython3",
   "version": "3.8.8"
  }
 },
 "nbformat": 4,
 "nbformat_minor": 5
}
